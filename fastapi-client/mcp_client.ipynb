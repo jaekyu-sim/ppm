{
 "cells": [
  {
   "cell_type": "code",
   "execution_count": 1,
   "id": "02706c66",
   "metadata": {},
   "outputs": [],
   "source": [
    "# 가상환경 실행 : .\\.venv\\Scripts\\activate.ps1\n",
    "\n",
    "from langchain_community.document_loaders import TextLoader\n",
    "from langchain_text_splitters import RecursiveCharacterTextSplitter\n",
    "from langchain.embeddings import OllamaEmbeddings\n",
    "from langchain_chroma import Chroma\n",
    "#from langchain_community.llms import Ollama\n",
    "#from langchain_community.chat_models import ChatOllama\n",
    "from langchain_ollama import ChatOllama\n",
    "from langchain_core.tools import tool\n",
    "from langchain.agents import initialize_agent, AgentType\n",
    "#from langchain_ollama import OllamaEmbeddings\n",
    "import os\n",
    "from langgraph.prebuilt import ToolNode\n",
    "from typing import Literal\n",
    "#from langgraph.graph import END\n",
    "from langgraph.graph import START, END\n",
    "from langgraph.graph import MessagesState, StateGraph\n",
    "from langchain_core.prompts import PromptTemplate\n"
   ]
  },
  {
   "cell_type": "code",
   "execution_count": 2,
   "id": "6dd0575f",
   "metadata": {},
   "outputs": [
    {
     "name": "stderr",
     "output_type": "stream",
     "text": [
      "C:\\Users\\worb1\\AppData\\Local\\Temp\\ipykernel_1320\\3511307189.py:3: LangChainDeprecationWarning: The class `OllamaEmbeddings` was deprecated in LangChain 0.3.1 and will be removed in 1.0.0. An updated version of the class exists in the :class:`~langchain-ollama package and should be used instead. To use it run `pip install -U :class:`~langchain-ollama` and import as `from :class:`~langchain_ollama import OllamaEmbeddings``.\n",
      "  embeddings = OllamaEmbeddings(\n"
     ]
    }
   ],
   "source": [
    "# model cell\n",
    "\n",
    "embeddings = OllamaEmbeddings(\n",
    "    model=\"bge-m3\"\n",
    ")\n",
    "\n",
    "llm = ChatOllama(\n",
    "    model=\"qwen3:4b\"\n",
    ")"
   ]
  },
  {
   "cell_type": "code",
   "execution_count": 4,
   "id": "48d38a9c",
   "metadata": {},
   "outputs": [
    {
     "name": "stdout",
     "output_type": "stream",
     "text": [
      "Vector DB 부재. 생성 시작.\n",
      "Chroma DB에 41개의 문서를 임베딩하여 저장 완료.\n",
      "Vector DB 생성 완료.\n"
     ]
    }
   ],
   "source": [
    "persist_directory = \"./chroma_db\"\n",
    "collection_name = 'requirements_list'\n",
    "if os.path.exists('./chroma_db') and len(os.listdir('./chroma_db')) > 0:\n",
    "    #기존 벡터 DB 가 존재할 경우.\n",
    "    print(\"Vector DB 존재. 불러오기 시작.\")\n",
    "    \n",
    "    vector_store = Chroma(\n",
    "        embedding_function=embeddings,\n",
    "        collection_name = collection_name,\n",
    "        persist_directory = persist_directory\n",
    "    )\n",
    "    print(\"Vector DB 불러오기 완료.\")\n",
    "else:\n",
    "    print(\"Vector DB 부재. 생성 시작.\")\n",
    "    # 1. 문서 로드\n",
    "    loader = TextLoader(\"./docs/RFP_requirements.md\", encoding=\"utf-8\")\n",
    "    documents = loader.load()\n",
    "\n",
    "    # 2. 문서 나누기\n",
    "    text_splitter = RecursiveCharacterTextSplitter(chunk_size=1000, chunk_overlap=100)\n",
    "    splits = text_splitter.split_documents(documents)\n",
    "    print(f\"Chroma DB에 {len(splits)}개의 문서를 임베딩하여 저장 완료.\")\n",
    "\n",
    "    # 3. 벡터 스토어 생성\n",
    "    vector_store = Chroma.from_documents(\n",
    "        documents=splits, \n",
    "        embedding=embeddings, \n",
    "        persist_directory=persist_directory,\n",
    "        collection_name=collection_name    \n",
    "    )\n",
    "    print(\"Vector DB 생성 완료.\")\n"
   ]
  },
  {
   "cell_type": "code",
   "execution_count": 6,
   "id": "c72867b3",
   "metadata": {},
   "outputs": [],
   "source": [
    "retriever = vector_store.as_retriever(search_kwargs={\"k\": 3})\n",
    "\n",
    "#query = \"교육과정을 개설하는 기능은?\"\n",
    "#result = retriever.invoke(query)\n",
    "#print(f\"✅ 검색 결과: {result}\")"
   ]
  },
  {
   "cell_type": "code",
   "execution_count": 7,
   "id": "20ec561c",
   "metadata": {},
   "outputs": [
    {
     "name": "stderr",
     "output_type": "stream",
     "text": [
      "<>:57: SyntaxWarning: invalid escape sequence '\\.'\n",
      "<>:57: SyntaxWarning: invalid escape sequence '\\.'\n",
      "C:\\Users\\worb1\\AppData\\Local\\Temp\\ipykernel_1320\\2134439076.py:57: SyntaxWarning: invalid escape sequence '\\.'\n",
      "  # 가상환경 실행 : .\\.venv\\Scripts\\activate.ps1\n"
     ]
    }
   ],
   "source": [
    "from langchain_core.output_parsers import StrOutputParser\n",
    "# 1. 소스코드 구현 내용 을 자연어로 변환 시키는 부분\n",
    "\n",
    "code_interpreter_template = \"\"\"\n",
    "당신은 Code Review 전문가입니다.\n",
    "\n",
    "지금부터 제공해주는 코드 파일들의 기능을 분석하세요.\n",
    "분석 결과는 **아래의 출력 형식만** 따르세요.  \n",
    "그 외의 어떤 설명, 영어 문장, `<think>` 등은 **절대 포함하지 마세요.**\n",
    "\n",
    "information List : {information}\n",
    "\n",
    "반드시 지켜야 할 규칙:\n",
    "- 출력은 아래 형식만 사용합니다.\n",
    "- 생각, 분석, 설명, 영어 문장은 절대 출력하지 마세요.\n",
    "- `<think>`나 내부 분석 과정도 출력하지 마세요.\n",
    "- 아래 형식처럼, 각 파일명과 기능을 한글로 요약해서 출력만 하세요.\n",
    "\n",
    "출력 예시:\n",
    "<output>\n",
    "- A.java  \n",
    "-- 사용자 등록 로직 구현.  \n",
    "-- 사용자 삭제 로직 구현.  \n",
    "-- 사용자 중복 여부 검사 로직 구현.  \n",
    "</output>\n",
    "\n",
    "이제 파일 목록을 분석한 후, 위 형식에 맞춰 출력만 하세요.\n",
    "\"\"\"\n",
    "code_interpreter_prompt = PromptTemplate.from_template(code_interpreter_template)\n",
    "code_interpreter_result_chain = code_interpreter_prompt | llm | StrOutputParser()\n",
    "\n",
    "code_information = [{\n",
    "    \"fileName\" : \"LoginService.java\",\n",
    "    \"language\": \"java\",\n",
    "    \"code\" : \"\"\"\n",
    "        @Service\n",
    "        public class LoginService {\n",
    "\n",
    "            private final UserRepository userRepository;\n",
    "\n",
    "            public LoginService(UserRepository userRepository) {\n",
    "                this.userRepository = userRepository;\n",
    "            }\n",
    "\n",
    "            public boolean login(String email, String password) {\n",
    "                return userRepository.findByEmail(email)\n",
    "                        .map(user -> user.getPassword().equals(password))\n",
    "                        .orElse(false);\n",
    "            }\n",
    "        }\n",
    "    \"\"\"}\n",
    "    , \n",
    "    { \n",
    "    \"fileName\" : \"mcp_server.py\",\n",
    "    \"language\": \"python\",\n",
    "    \"code\" : \"\"\"\n",
    "        # 가상환경 실행 : .\\.venv\\Scripts\\activate.ps1\n",
    "\n",
    "        from mcp.server.fastmcp import FastMCP\n",
    "\n",
    "        mcp = FastMCP(\\\"ppm\\\")\n",
    "\n",
    "        @mcp.tool()\n",
    "        def add(a: int, b: int) -> int:\n",
    "            \\\"\\\"\\\"두 숫자를 더합니다.\\\"\\\"\\\"\n",
    "            return a + b\n",
    "\n",
    "        # dev : mcp dev ./fastmcp-server/mcp_server.py\n",
    "        # prd : python ./fastmcp-server/mcp_server.py \n",
    "        if __name__ == \\\"__main__\\\":\n",
    "            mcp.run(transport=\"stdio\")\n",
    "    \"\"\"}]\n",
    "\n",
    "result = code_interpreter_result_chain.invoke({\"information\": code_information})\n",
    "\n",
    "\n",
    "\n",
    "\n",
    "# 2. 변환시킨 자연어를 retriever 에 넣는 부분\n",
    "\n"
   ]
  },
  {
   "cell_type": "code",
   "execution_count": null,
   "id": "1c32e06a",
   "metadata": {},
   "outputs": [],
   "source": []
  }
 ],
 "metadata": {
  "kernelspec": {
   "display_name": "Python 3",
   "language": "python",
   "name": "python3"
  },
  "language_info": {
   "codemirror_mode": {
    "name": "ipython",
    "version": 3
   },
   "file_extension": ".py",
   "mimetype": "text/x-python",
   "name": "python",
   "nbconvert_exporter": "python",
   "pygments_lexer": "ipython3",
   "version": "3.13.5"
  }
 },
 "nbformat": 4,
 "nbformat_minor": 5
}
