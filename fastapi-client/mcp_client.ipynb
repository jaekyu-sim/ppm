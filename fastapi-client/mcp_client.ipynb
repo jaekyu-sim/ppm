{
 "cells": [
  {
   "cell_type": "code",
   "execution_count": 1,
   "id": "02706c66",
   "metadata": {},
   "outputs": [],
   "source": [
    "# 가상환경 실행 : .\\.venv\\Scripts\\activate.ps1\n",
    "\n",
    "from langchain_community.document_loaders import TextLoader\n",
    "from langchain_text_splitters import RecursiveCharacterTextSplitter\n",
    "from langchain.embeddings import OllamaEmbeddings\n",
    "from langchain_chroma import Chroma\n",
    "#from langchain_community.llms import Ollama\n",
    "#from langchain_community.chat_models import ChatOllama\n",
    "from langchain_ollama import ChatOllama\n",
    "from langchain_core.tools import tool\n",
    "from langchain.agents import initialize_agent, AgentType\n",
    "#from langchain_ollama import OllamaEmbeddings\n",
    "import os\n",
    "from langgraph.prebuilt import ToolNode\n",
    "from typing import Literal\n",
    "#from langgraph.graph import END\n",
    "from langgraph.graph import START, END\n",
    "from langgraph.graph import MessagesState, StateGraph\n",
    "from langchain_core.prompts import PromptTemplate\n"
   ]
  },
  {
   "cell_type": "code",
   "execution_count": 2,
   "id": "6dd0575f",
   "metadata": {},
   "outputs": [
    {
     "name": "stderr",
     "output_type": "stream",
     "text": [
      "C:\\Users\\worb1\\AppData\\Local\\Temp\\ipykernel_15080\\3511307189.py:3: LangChainDeprecationWarning: The class `OllamaEmbeddings` was deprecated in LangChain 0.3.1 and will be removed in 1.0.0. An updated version of the class exists in the :class:`~langchain-ollama package and should be used instead. To use it run `pip install -U :class:`~langchain-ollama` and import as `from :class:`~langchain_ollama import OllamaEmbeddings``.\n",
      "  embeddings = OllamaEmbeddings(\n"
     ]
    }
   ],
   "source": [
    "# model cell\n",
    "\n",
    "embeddings = OllamaEmbeddings(\n",
    "    model=\"bge-m3\"\n",
    ")\n",
    "\n",
    "llm = ChatOllama(\n",
    "    model=\"qwen3:4b\"\n",
    ")"
   ]
  },
  {
   "cell_type": "code",
   "execution_count": 3,
   "id": "48d38a9c",
   "metadata": {},
   "outputs": [
    {
     "name": "stdout",
     "output_type": "stream",
     "text": [
      "Vector DB 존재. 불러오기 시작.\n",
      "Vector DB 불러오기 완료.\n"
     ]
    }
   ],
   "source": [
    "persist_directory = \"./chroma_db\"\n",
    "collection_name = 'requirements_list'\n",
    "if os.path.exists('./chroma_db') and len(os.listdir('./chroma_db')) > 0:\n",
    "    #기존 벡터 DB 가 존재할 경우.\n",
    "    print(\"Vector DB 존재. 불러오기 시작.\")\n",
    "    \n",
    "    vector_store = Chroma(\n",
    "        embedding_function=embeddings,\n",
    "        collection_name = collection_name,\n",
    "        persist_directory = persist_directory\n",
    "    )\n",
    "    print(\"Vector DB 불러오기 완료.\")\n",
    "else:\n",
    "    print(\"Vector DB 부재. 생성 시작.\")\n",
    "    # 1. 문서 로드\n",
    "    loader = TextLoader(\"./docs/RFP_requirements.md\", encoding=\"utf-8\")\n",
    "    documents = loader.load()\n",
    "\n",
    "    # 2. 문서 나누기\n",
    "    text_splitter = RecursiveCharacterTextSplitter(chunk_size=1000, chunk_overlap=100)\n",
    "    splits = text_splitter.split_documents(documents)\n",
    "    print(f\"Chroma DB에 {len(splits)}개의 문서를 임베딩하여 저장 완료.\")\n",
    "\n",
    "    # 3. 벡터 스토어 생성\n",
    "    vector_store = Chroma.from_documents(\n",
    "        documents=splits, \n",
    "        embedding=embeddings, \n",
    "        persist_directory=persist_directory,\n",
    "        collection_name=collection_name    \n",
    "    )\n",
    "    print(\"Vector DB 생성 완료.\")\n"
   ]
  },
  {
   "cell_type": "code",
   "execution_count": 5,
   "id": "c72867b3",
   "metadata": {},
   "outputs": [
    {
     "name": "stdout",
     "output_type": "stream",
     "text": [
      "✅ 검색 결과: [Document(id='7dae23f4-0424-4f89-8c5e-dd8697f57515', metadata={'source': './fastapi-client/docs/RFP_requirements.md'}, page_content='## SFR-099: 테스트 로직 구현\\n\\n- **요구사항ID**: SFR-099\\n- **유형**: 기능 요구사항\\n- **대분류**: 개발 TMS (Test Management System)\\n- **중분류**: 개발 테스트 기능\\n- **소분류**:\\n  - 개발 테스트 기능 구현\\n    - api 호출 시, \"호출 됨\", \"1등하자\" 문구를 출력하고, \"hello world\" 를 반환하는 기능 구현.\\n\\n- **요구사항명**: 개발 테스트 기능 구현\\n- **설명**:  \\n  사용자의 api 호출 요청 시, 서버 내에 \"호출 됨\", \"1등하자\" 를 Print 하는 로직을 구현하고, \"hello world\" 를 반환하는 기능 구현.\\n\\n- **근거문서**:\\n  - RFP III‑3 “상세 요구사항” SFR‑003 :contentReference[oaicite:2]{index=2}&#8203;:contentReference[oaicite:3]{index=3}\\n\\n- **비고**:\\n  - 산출물: 요구사항정의서, ERD, API 설계서, 화면설계서  \\n\\n## SFR-001: 공통 사용자 웹·모바일 기반 교육플랫폼 개발\\n\\n- **요구사항ID**: SFR-001\\n- **유형**: 기능 요구사항\\n- **대분류**: 구축 LMS (Learning Management System)\\n- **중분류**: 공통 사용자 웹/모바일 기반 교육플랫폼 개발\\n- **소분류**:\\n    - 표준 프레임워크 준수 (전자정부 표준프레임워크 포함)\\n    - 웹접근성·호환성 및 다중 브라우저 지원\\n    - 개인정보 암호화 및 보안 개발 준수\\n    - 반응형 웹 구현 및 CDN 연동\\n    - 대용량 콘텐츠 업로드 및 진행 상태 표시\\n    - 관리자용 코드·권한·설정 관리 UI'), Document(id='00f09f4b-949b-4f2d-9081-b679150f09c1', metadata={'source': './fastapi-client/docs/RFP_requirements.md'}, page_content='- **게시판·고객지원**\\n    - 공지사항·새 소식·자료실 게시판\\n    - FAQ, 희망콘텐츠 신청, 커뮤니티, 도움말 게시판 제공 :contentReference[oaicite:8]{index=8}&#8203;:contentReference[oaicite:9]{index=9}\\n  - **강사지원**\\n    - 강사등록 및 등록결과 확인 기능 제공 :contentReference[oaicite:10]{index=10}&#8203;:contentReference[oaicite:11]{index=11}\\n  - **시설 현황**\\n    - 강의실 대관 절차·이용 안내\\n    - 강의실 현황 조회\\n    - 대관 신청·취소·예약 현황 조회 기능 제공 :contentReference[oaicite:12]{index=12}&#8203;:contentReference[oaicite:13]{index=13}\\n  - **서비스·회원·팝업**\\n    - 서비스 약관·개인정보처리방침·저작권 정책 조회\\n    - 로그인·회원가입·아이디 찾기·비밀번호 변경·회원정보 수정·회원탈퇴 기능\\n    - 팝업창(이미지·텍스트) 등록·수정·삭제, 시작일·종료일 설정\\n    - 홈페이지 배너 등록·수정·삭제, 관리자 팝업 공지 설정\\n    - 글별 공유·공감·답글·댓글 기능, SNS 공유 연계, 사용자 피드백(좋아요·댓글) :contentReference[oaicite:14]{index=14}&#8203;:contentReference[oaicite:15]{index=15}'), Document(id='bf348474-43cd-40c6-8afe-b4a9ffa5ebc8', metadata={'source': './fastapi-client/docs/RFP_requirements.md'}, page_content='- **근거문서**:\\n  - RFP III‑3 “상세 요구사항” SFR‑008 :contentReference[oaicite:8]{index=8}\\n\\n- **비고**:\\n  - 산출물: 요구사항정의서, 요구사항추적표, 화면설계서  \\n\\n## SFR-009: 설문관리 기능\\n\\n- **요구사항ID**: SFR-009\\n- **유형**: 기능 요구사항\\n- **대분류**: 구축 LMS (Learning Management System)\\n- **중분류**: 설문관리 기능\\n- **소분류**:\\n  - **설문 관리 기능**\\n    - 온라인·모바일 응답 기능 구현\\n    - 용도·사용주체·기간·문항별 설문 관리 기능 구현\\n    - 주관식·객관식·OX 등 다양한 설문 유형 등록 기능 구현\\n    - 설문 결과 응답자 현황 통계 제공 :contentReference[oaicite:0]{index=0}&#8203;:contentReference[oaicite:1]{index=1}\\n  - **교육대상자별 설문관리**\\n    - 교육 과정별 강사·강의내역·시설 등 분류별 문항 등록 기능 구현\\n    - 교육 대상자 만족도 평가 기능 구현 :contentReference[oaicite:2]{index=2}&#8203;:contentReference[oaicite:3]{index=3}\\n  - **미답변 대상자 설문 재발송**\\n    - 답변하지 않은 대상자에게만 설문 재발송 기능 구현 :contentReference[oaicite:4]{index=4}&#8203;:contentReference[oaicite:5]{index=5}\\n  - **설문 결과 통계현황 기능**\\n    - 다양한 통계현황(응답율, 점수분포 등) 조회 기능 구현 :contentReference[oaicite:6]{index=6}&#8203;:contentReference[oaicite:7]{index=7}')]\n"
     ]
    }
   ],
   "source": [
    "retriever = vector_store.as_retriever(search_kwargs={\"k\": 3})\n",
    "\n",
    "query = \"hello world 를 반환하는 부분은?\"\n",
    "result = retriever.invoke(query)\n",
    "print(f\"✅ 검색 결과: {result}\")"
   ]
  },
  {
   "cell_type": "code",
   "execution_count": 7,
   "id": "20ec561c",
   "metadata": {},
   "outputs": [
    {
     "name": "stderr",
     "output_type": "stream",
     "text": [
      "<>:57: SyntaxWarning: invalid escape sequence '\\.'\n",
      "<>:57: SyntaxWarning: invalid escape sequence '\\.'\n",
      "C:\\Users\\worb1\\AppData\\Local\\Temp\\ipykernel_1320\\2134439076.py:57: SyntaxWarning: invalid escape sequence '\\.'\n",
      "  # 가상환경 실행 : .\\.venv\\Scripts\\activate.ps1\n"
     ]
    }
   ],
   "source": [
    "from langchain_core.output_parsers import StrOutputParser\n",
    "# 1. 소스코드 구현 내용 을 자연어로 변환 시키는 부분\n",
    "\n",
    "code_interpreter_template = \"\"\"\n",
    "당신은 Code Review 전문가입니다.\n",
    "\n",
    "지금부터 제공해주는 코드 파일들의 기능을 분석하세요.\n",
    "분석 결과는 **아래의 출력 형식만** 따르세요.  \n",
    "그 외의 어떤 설명, 영어 문장, `<think>` 등은 **절대 포함하지 마세요.**\n",
    "\n",
    "information List : {information}\n",
    "\n",
    "반드시 지켜야 할 규칙:\n",
    "- 출력은 아래 형식만 사용합니다.\n",
    "- 생각, 분석, 설명, 영어 문장은 절대 출력하지 마세요.\n",
    "- `<think>`나 내부 분석 과정도 출력하지 마세요.\n",
    "- 아래 형식처럼, 각 파일명과 기능을 한글로 요약해서 출력만 하세요.\n",
    "\n",
    "출력 예시:\n",
    "<output>\n",
    "- A.java  \n",
    "-- 사용자 등록 로직 구현.  \n",
    "-- 사용자 삭제 로직 구현.  \n",
    "-- 사용자 중복 여부 검사 로직 구현.  \n",
    "</output>\n",
    "\n",
    "이제 파일 목록을 분석한 후, 위 형식에 맞춰 출력만 하세요.\n",
    "\"\"\"\n",
    "code_interpreter_prompt = PromptTemplate.from_template(code_interpreter_template)\n",
    "code_interpreter_result_chain = code_interpreter_prompt | llm | StrOutputParser()\n",
    "\n",
    "code_information = [{\n",
    "    \"fileName\" : \"LoginService.java\",\n",
    "    \"language\": \"java\",\n",
    "    \"code\" : \"\"\"\n",
    "        @Service\n",
    "        public class LoginService {\n",
    "\n",
    "            private final UserRepository userRepository;\n",
    "\n",
    "            public LoginService(UserRepository userRepository) {\n",
    "                this.userRepository = userRepository;\n",
    "            }\n",
    "\n",
    "            public boolean login(String email, String password) {\n",
    "                return userRepository.findByEmail(email)\n",
    "                        .map(user -> user.getPassword().equals(password))\n",
    "                        .orElse(false);\n",
    "            }\n",
    "        }\n",
    "    \"\"\"}\n",
    "    , \n",
    "    { \n",
    "    \"fileName\" : \"mcp_server.py\",\n",
    "    \"language\": \"python\",\n",
    "    \"code\" : \"\"\"\n",
    "        # 가상환경 실행 : .\\.venv\\Scripts\\activate.ps1\n",
    "\n",
    "        from mcp.server.fastmcp import FastMCP\n",
    "\n",
    "        mcp = FastMCP(\\\"ppm\\\")\n",
    "\n",
    "        @mcp.tool()\n",
    "        def add(a: int, b: int) -> int:\n",
    "            \\\"\\\"\\\"두 숫자를 더합니다.\\\"\\\"\\\"\n",
    "            return a + b\n",
    "\n",
    "        # dev : mcp dev ./fastmcp-server/mcp_server.py\n",
    "        # prd : python ./fastmcp-server/mcp_server.py \n",
    "        if __name__ == \\\"__main__\\\":\n",
    "            mcp.run(transport=\"stdio\")\n",
    "    \"\"\"}]\n",
    "\n",
    "result = code_interpreter_result_chain.invoke({\"information\": code_information})\n",
    "\n",
    "\n",
    "\n",
    "\n",
    "# 2. 변환시킨 자연어를 retriever 에 넣는 부분\n",
    "\n"
   ]
  },
  {
   "cell_type": "code",
   "execution_count": null,
   "id": "1c32e06a",
   "metadata": {},
   "outputs": [],
   "source": []
  }
 ],
 "metadata": {
  "kernelspec": {
   "display_name": "ppm",
   "language": "python",
   "name": "python3"
  },
  "language_info": {
   "codemirror_mode": {
    "name": "ipython",
    "version": 3
   },
   "file_extension": ".py",
   "mimetype": "text/x-python",
   "name": "python",
   "nbconvert_exporter": "python",
   "pygments_lexer": "ipython3",
   "version": "3.13.5"
  }
 },
 "nbformat": 4,
 "nbformat_minor": 5
}
