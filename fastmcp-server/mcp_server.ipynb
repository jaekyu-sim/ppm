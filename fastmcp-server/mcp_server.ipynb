{
 "cells": [
  {
   "cell_type": "code",
   "execution_count": null,
   "id": "c0989a9c",
   "metadata": {},
   "outputs": [],
   "source": [
    "# 가상환경 실행 : .\\.venv\\Scripts\\activate.ps1\n",
    "\n",
    "from langchain_community.document_loaders import TextLoader\n",
    "from langchain_text_splitters import RecursiveCharacterTextSplitter\n",
    "from langchain.embeddings import OllamaEmbeddings\n",
    "from langchain_chroma import Chroma\n",
    "#from langchain_community.llms import Ollama\n",
    "#from langchain_community.chat_models import ChatOllama\n",
    "from langchain_ollama import ChatOllama\n",
    "from langchain_core.tools import tool\n",
    "from langchain.agents import initialize_agent, AgentType\n",
    "#from langchain_ollama import OllamaEmbeddings\n",
    "import os\n",
    "from langgraph.prebuilt import ToolNode\n",
    "from typing import Literal\n",
    "#from langgraph.graph import END\n",
    "from langgraph.graph import START, END\n",
    "from langgraph.graph import MessagesState, StateGraph\n",
    "from langchain_core.prompts import PromptTemplate\n"
   ]
  },
  {
   "cell_type": "code",
   "execution_count": 2,
   "id": "44f87a25",
   "metadata": {},
   "outputs": [
    {
     "name": "stderr",
     "output_type": "stream",
     "text": [
      "C:\\Users\\worb1\\AppData\\Local\\Temp\\ipykernel_21804\\3511307189.py:3: LangChainDeprecationWarning: The class `OllamaEmbeddings` was deprecated in LangChain 0.3.1 and will be removed in 1.0.0. An updated version of the class exists in the :class:`~langchain-ollama package and should be used instead. To use it run `pip install -U :class:`~langchain-ollama` and import as `from :class:`~langchain_ollama import OllamaEmbeddings``.\n",
      "  embeddings = OllamaEmbeddings(\n"
     ]
    }
   ],
   "source": [
    "# model cell\n",
    "\n",
    "embeddings = OllamaEmbeddings(\n",
    "    model=\"bge-m3\"\n",
    ")\n",
    "\n",
    "llm = ChatOllama(\n",
    "    model=\"qwen3:4b\"\n",
    ")"
   ]
  },
  {
   "cell_type": "code",
   "execution_count": 3,
   "id": "791476fc",
   "metadata": {},
   "outputs": [
    {
     "name": "stdout",
     "output_type": "stream",
     "text": [
      "Vector DB 존재. 불러오기 시작.\n",
      "Vector DB 불러오기 완료.\n"
     ]
    }
   ],
   "source": [
    "persist_directory = \"./chroma_db\"\n",
    "collection_name = 'requirements_list'\n",
    "if os.path.exists('./chroma_db') and len(os.listdir('./chroma_db')) > 0:\n",
    "    #기존 벡터 DB 가 존재할 경우.\n",
    "    print(\"Vector DB 존재. 불러오기 시작.\")\n",
    "    \n",
    "    vector_store = Chroma(\n",
    "        embedding_function=embeddings,\n",
    "        collection_name = collection_name,\n",
    "        persist_directory = persist_directory\n",
    "    )\n",
    "    print(\"Vector DB 불러오기 완료.\")\n",
    "else:\n",
    "    print(\"Vector DB 부재. 생성 시작.\")\n",
    "    # 1. 문서 로드\n",
    "    loader = TextLoader(\"./docs/RFP_requirements.md\", encoding=\"utf-8\")\n",
    "    documents = loader.load()\n",
    "\n",
    "    # 2. 문서 나누기\n",
    "    text_splitter = RecursiveCharacterTextSplitter(chunk_size=1000, chunk_overlap=100)\n",
    "    splits = text_splitter.split_documents(documents)\n",
    "    print(f\"Chroma DB에 {len(splits)}개의 문서를 임베딩하여 저장 완료.\")\n",
    "\n",
    "    # 3. 벡터 스토어 생성\n",
    "    vector_store = Chroma.from_documents(\n",
    "        documents=splits, \n",
    "        embedding=embeddings, \n",
    "        persist_directory=persist_directory,\n",
    "        collection_name=collection_name    \n",
    "    )\n",
    "    print(\"Vector DB 생성 완료.\")\n"
   ]
  },
  {
   "cell_type": "code",
   "execution_count": null,
   "id": "e432f859",
   "metadata": {},
   "outputs": [
    {
     "name": "stdout",
     "output_type": "stream",
     "text": [
      "✅ 검색 결과: [Document(id='ebd4e7e5-647a-46ad-bafa-b605a9e1a51c', metadata={'source': './docs/RFP_requirements.md'}, page_content='- **근거문서**:\\n  - RFP III‑3 “상세 요구사항” SFR‑003 :contentReference[oaicite:2]{index=2}&#8203;:contentReference[oaicite:3]{index=3}\\n\\n- **비고**:\\n  - 산출물: 요구사항정의서, ERD, API 설계서, 화면설계서  \\n\\n## SFR-004: 프로그램 및 과정 개설\\n\\n- **요구사항ID**: SFR-004\\n- **유형**: 기능 요구사항\\n- **대분류**: 구축 LMS (Learning Management System)\\n- **중분류**: 프로그램 및 과정 개설\\n- **소분류**:\\n  - **교육과정 개설·관리 기능**\\n    - 교육일자·교육차수·학습자 등을 고려한 과정 개설 관리\\n    - 엑셀 업로드를 통한 대량 교육과정 등록\\n    - 등록된 교육과정 리스트 조회\\n    - 교육별 차수별 수강 대상자 조회·등록, 과정 게시판 및 수료처리 관리\\n  - **교육과정 실시 정보 변경 관리 기능**\\n    - 신청 결과 등록 및 최종 교육 프로그램 내역 확인\\n    - 프로그램 기간 연장 시 변경 내용 자동 반영\\n    - 교육과정 취소 기능\\n  - **교육요금 관리 기능**\\n    - 다양한 교육요금 정책 관리\\n    - 교육료 일괄·일자별 관리\\n\\n- **요구사항명**: 프로그램 및 과정 개설\\n- **설명**:  \\n  교육과정 개설부터 관리, 변경·취소, 요금 정책 설정 및 학습자 대상자 등록까지 전 과정을 지원하는 기능을 제공해야 한다. :contentReference[oaicite:0]{index=0}&#8203;:contentReference[oaicite:1]{index=1}\\n\\n- **근거문서**:\\n  - RFP III‑3 “상세 요구사항” SFR‑004 :contentReference[oaicite:2]{index=2}&#8203;:contentReference[oaicite:3]{index=3}'), Document(id='8cf92421-9747-4c67-9f99-a84af15e8c7a', metadata={'source': './docs/RFP_requirements.md'}, page_content='- **근거문서**:\\n  - RFP III‑3 “상세 요구사항” SFR‑006 :contentReference[oaicite:1]{index=1}\\n\\n- **비고**:\\n  - 산출물: 요구사항정의서, 요구사항추적표, 화면설계서  \\n\\n## SFR-007: 교육이수 관리기능\\n\\n- **요구사항ID**: SFR-007\\n- **유형**: 기능 요구사항\\n- **대분류**: 구축 LMS (Learning Management System)\\n- **중분류**: 교육이수 관리기능\\n- **소분류**:\\n  - **나의 학습현황 마이페이지 기능**\\n    - 사용자별 대시보드에서 학습활동 이수현황 조회\\n    - 신청중·학습중·학습완료 등 단계별 교육과정 내역 조회\\n    - 관심분야 기반 개인화 교육정보 제공 :contentReference[oaicite:0]{index=0}&#8203;:contentReference[oaicite:1]{index=1}\\n  - **나의 관심과정 등록 기능**\\n  - **웹·모바일 학습진도 연동 기능**\\n  - **나의 강의실 과정별 기능**\\n    - 강의 내역 조회\\n    - 과정별 시험·설문 관리 및 등록 기능 :contentReference[oaicite:2]{index=2}&#8203;:contentReference[oaicite:3]{index=3}\\n  - **수료처리 기능**\\n    - 수료 기준에 따른 자동·수동 수료 처리 및 이수증 출력\\n      - 수동 발급 기능(특수 사정 시 임의 발급)\\n      - 과정별 이수 조건 설정\\n      - 이수증 PDF 다운로드 제공 :contentReference[oaicite:4]{index=4}&#8203;:contentReference[oaicite:5]{index=5}\\n  - **교육일정 조회 기능**\\n    - 년·월간 교육일정 조회'), Document(id='47791980-82b5-434d-adca-2cae4da34369', metadata={'source': './docs/RFP_requirements.md'}, page_content='- **요구사항명**: 교육이수 관리기능\\n- **설명**:  \\n  마이페이지 기반 대시보드를 통해 학습 현황을 단계별로 조회하고, 관심과정 등록·진도 연동·시험·설문·수료 처리를 통합 지원해야 한다.\\n\\n- **사전흐름**:\\n  1. 수료 프로세스 및 화면 흐름 정의\\n  2. 학습진도·수료 데이터 모델 설계\\n\\n- **이후흐름**:\\n  1. 화면설계서(UI/UX) 및 API 설계\\n  2. 개발 착수 및 단위·통합 테스트\\n\\n- **근거문서**:\\n  - RFP III‑3 “상세 요구사항” SFR‑007 :contentReference[oaicite:6]{index=6}&#8203;:contentReference[oaicite:7]{index=7}\\n\\n- **비고**:\\n  - 산출물: 요구사항정의서, 요구사항추적표, 화면설계서  \\n\\n## SFR-008: 교육장 시설 관리')]\n"
     ]
    }
   ],
   "source": [
    "retriever = vector_store.as_retriever(search_kwargs={\"k\": 3})\n",
    "\n",
    "#query = \"교육과정을 개설하는 기능은?\"\n",
    "#result = retriever.invoke(query)\n",
    "#print(f\"✅ 검색 결과: {result}\")"
   ]
  },
  {
   "cell_type": "code",
   "execution_count": null,
   "id": "66b17b87",
   "metadata": {},
   "outputs": [
    {
     "name": "stderr",
     "output_type": "stream",
     "text": [
      "<>:55: SyntaxWarning: invalid escape sequence '\\.'\n",
      "<>:55: SyntaxWarning: invalid escape sequence '\\.'\n",
      "C:\\Users\\worb1\\AppData\\Local\\Temp\\ipykernel_21804\\304708240.py:55: SyntaxWarning: invalid escape sequence '\\.'\n",
      "  # 가상환경 실행 : .\\.venv\\Scripts\\activate.ps1\n"
     ]
    }
   ],
   "source": [
    "from langchain_core.output_parsers import StrOutputParser\n",
    "# 1. 소스코드 구현 내용 을 자연어로 변환 시키는 부분\n",
    "\n",
    "code_interpreter_template = \"\"\"\n",
    "당신은 Code Review 전문가입니다.\n",
    "\n",
    "지금부터 제공해주는 코드 파일들의 기능을 분석하세요.\n",
    "분석 결과는 **아래의 출력 형식만** 따르세요.  \n",
    "그 외의 어떤 설명, 영어 문장, `<think>` 등은 **절대 포함하지 마세요.**\n",
    "\n",
    "information List : {information}\n",
    "\n",
    "반드시 지켜야 할 규칙:\n",
    "- 출력은 아래 형식만 사용합니다.\n",
    "- 생각, 분석, 설명, 영어 문장은 절대 출력하지 마세요.\n",
    "- `<think>`나 내부 분석 과정도 출력하지 마세요.\n",
    "- 아래 형식처럼, 각 파일명과 기능을 한글로 요약해서 출력만 하세요.\n",
    "\n",
    "출력 예시:\n",
    "<output>\n",
    "- A.java  \n",
    "-- 사용자 등록 로직 구현.  \n",
    "-- 사용자 삭제 로직 구현.  \n",
    "-- 사용자 중복 여부 검사 로직 구현.  \n",
    "</output>\n",
    "\n",
    "이제 파일 목록을 분석한 후, 위 형식에 맞춰 출력만 하세요.\n",
    "\"\"\"\n",
    "code_interpreter_prompt = PromptTemplate.from_template(code_interpreter_template)\n",
    "code_interpreter_result_chain = code_interpreter_prompt | llm | StrOutputParser()\n",
    "\n",
    "code_information = [{\n",
    "    \"fileName\" : \"LoginService.java\",\n",
    "    \"language\": \"java\",\n",
    "    \"code\" : \"\"\"\n",
    "        @Service\n",
    "        public class LoginService {\n",
    "\n",
    "            private final UserRepository userRepository;\n",
    "\n",
    "            public LoginService(UserRepository userRepository) {\n",
    "                this.userRepository = userRepository;\n",
    "            }\n",
    "\n",
    "            public boolean login(String email, String password) {\n",
    "                return userRepository.findByEmail(email)\n",
    "                        .map(user -> user.getPassword().equals(password))\n",
    "                        .orElse(false);\n",
    "            }\n",
    "        }\n",
    "    \"\"\"}\n",
    "    , \n",
    "    { \n",
    "    \"fileName\" : \"mcp_server.py\",\n",
    "    \"language\": \"python\",\n",
    "    \"code\" : \"\"\"\n",
    "        # 가상환경 실행 : .\\.venv\\Scripts\\activate.ps1\n",
    "\n",
    "        from mcp.server.fastmcp import FastMCP\n",
    "\n",
    "        mcp = FastMCP(\\\"ppm\\\")\n",
    "\n",
    "        @mcp.tool()\n",
    "        def add(a: int, b: int) -> int:\n",
    "            \\\"\\\"\\\"두 숫자를 더합니다.\\\"\\\"\\\"\n",
    "            return a + b\n",
    "\n",
    "        # dev : mcp dev ./fastmcp-server/mcp_server.py\n",
    "        # prd : python ./fastmcp-server/mcp_server.py \n",
    "        if __name__ == \\\"__main__\\\":\n",
    "            mcp.run(transport=\"stdio\")\n",
    "    \"\"\"}]\n",
    "\n",
    "result = code_interpreter_result_chain.invoke({\"information\": code_information})\n",
    "\n",
    "\n",
    "\n",
    "\n",
    "# 2. 변환시킨 자연어를 retriever 에 넣는 부분\n",
    "\n"
   ]
  },
  {
   "cell_type": "code",
   "execution_count": 27,
   "id": "69e7c14a",
   "metadata": {},
   "outputs": [
    {
     "data": {
      "text/plain": [
       "'<think>\\nOkay, let\\'s tackle this code review. The user provided two files: LoginService.java and mcp_server.py. I need to analyze each one and summarize their functionality in Korean according to the specified format.\\n\\nStarting with LoginService.java. It\\'s a Java class annotated with @Service, so it\\'s likely a Spring service. The class has a constructor that takes a UserRepository, which suggests it\\'s dependent on a repository for user data. The main method is login, which takes email and password. It uses userRepository.findByEmail to find a user by email, then checks if the stored password matches the provided password. If the user is found and the password matches, it returns true; otherwise, false. So the functionality here is handling the login process by verifying user credentials.\\n\\nNext, mcp_server.py. It\\'s a Python script that imports FastMCP from a module. There\\'s a FastMCP instance initialized with \"ppm\". Then there\\'s a tool decorator called add, which takes two integers and returns their sum. The script also has a conditional block that runs if the file is executed directly, calling mcp.run with transport set to \"stdio\". This seems like setting up a server that can handle tools, possibly for some kind of API or command-line interface, with the add function as a tool available via the MCP framework.\\n\\nNow, I need to translate these analyses into the required format. For each file, list the main functions in Korean. Make sure not to include any extra explanations or markdown. Just the file name and the summary points.\\n</think>\\n\\nLoginService.java  \\n-- 이메일로 사용자 조회 후 비밀번호 검증 로직 구현.  \\n-- 사용자 로그인 여부 반환.  \\n\\nmcp_server.py  \\n-- FastMCP 프레임워크를 이용한 도구 실행 설정.  \\n-- 두 숫자 더하기 기능 정의.  \\n-- 스크립트 실행 시 stdio_transport을 이용한 서버 실행.'"
      ]
     },
     "execution_count": 27,
     "metadata": {},
     "output_type": "execute_result"
    }
   ],
   "source": [
    "result"
   ]
  },
  {
   "cell_type": "code",
   "execution_count": null,
   "id": "1332a218",
   "metadata": {},
   "outputs": [],
   "source": []
  },
  {
   "cell_type": "code",
   "execution_count": null,
   "id": "fbe41c18",
   "metadata": {},
   "outputs": [],
   "source": []
  },
  {
   "cell_type": "code",
   "execution_count": null,
   "id": "cc7ba886",
   "metadata": {},
   "outputs": [],
   "source": []
  }
 ],
 "metadata": {
  "kernelspec": {
   "display_name": "Python 3",
   "language": "python",
   "name": "python3"
  },
  "language_info": {
   "codemirror_mode": {
    "name": "ipython",
    "version": 3
   },
   "file_extension": ".py",
   "mimetype": "text/x-python",
   "name": "python",
   "nbconvert_exporter": "python",
   "pygments_lexer": "ipython3",
   "version": "3.13.5"
  }
 },
 "nbformat": 4,
 "nbformat_minor": 5
}
